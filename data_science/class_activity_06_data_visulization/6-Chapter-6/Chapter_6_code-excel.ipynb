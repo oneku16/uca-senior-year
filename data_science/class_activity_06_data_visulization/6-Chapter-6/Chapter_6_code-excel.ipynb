{
 "cells": [
  {
   "cell_type": "code",
   "execution_count": 1,
   "metadata": {},
   "outputs": [
    {
     "data": {
      "text/plain": [
       "['data/excel\\\\20210123_mom.xlsx',\n",
       " 'data/excel\\\\20210124_mom.xlsx',\n",
       " 'data/excel\\\\20210125_mom.xlsx',\n",
       " 'data/excel\\\\20210126_mom.xlsx',\n",
       " 'data/excel\\\\20210127_mom.xlsx',\n",
       " 'data/excel\\\\20210128_mom.xlsx',\n",
       " 'data/excel\\\\20210129_mom.xlsx',\n",
       " 'data/excel\\\\20210130_mom.xlsx',\n",
       " 'data/excel\\\\20210131_mom.xlsx',\n",
       " 'data/excel\\\\20210201_mom.xlsx']"
      ]
     },
     "execution_count": 1,
     "metadata": {},
     "output_type": "execute_result"
    }
   ],
   "source": [
    "from glob import glob\n",
    "excel_files = glob('data/excel/*.xlsx')\n",
    "excel_files"
   ]
  },
  {
   "cell_type": "code",
   "execution_count": 2,
   "metadata": {},
   "outputs": [
    {
     "name": "stderr",
     "output_type": "stream",
     "text": [
      "C:\\Users\\words\\anaconda3\\envs\\datasci\\lib\\site-packages\\openpyxl\\styles\\stylesheet.py:221: UserWarning: Workbook contains no default style, apply openpyxl's default\n",
      "  warn(\"Workbook contains no default style, apply openpyxl's default\")\n"
     ]
    }
   ],
   "source": [
    "import pandas as pd\n",
    "df = pd.read_excel(excel_files[0], sheet_name='MISO', skiprows=4, nrows=17, index_col=0, usecols=range(7))"
   ]
  },
  {
   "cell_type": "code",
   "execution_count": 3,
   "metadata": {},
   "outputs": [
    {
     "data": {
      "text/html": [
       "<div>\n",
       "<style scoped>\n",
       "    .dataframe tbody tr th:only-of-type {\n",
       "        vertical-align: middle;\n",
       "    }\n",
       "\n",
       "    .dataframe tbody tr th {\n",
       "        vertical-align: top;\n",
       "    }\n",
       "\n",
       "    .dataframe thead th {\n",
       "        text-align: right;\n",
       "    }\n",
       "</style>\n",
       "<table border=\"1\" class=\"dataframe\">\n",
       "  <thead>\n",
       "    <tr style=\"text-align: right;\">\n",
       "      <th></th>\n",
       "      <th>1/24/21 HE 20</th>\n",
       "      <th>1/25/21 HE 20**</th>\n",
       "      <th>1/26/21 HE 20**</th>\n",
       "      <th>1/27/21 HE 20**</th>\n",
       "      <th>1/28/21 HE 09**</th>\n",
       "      <th>1/29/21 HE 09**</th>\n",
       "    </tr>\n",
       "  </thead>\n",
       "  <tbody>\n",
       "    <tr>\n",
       "      <th>RESOURCE COMMITTED</th>\n",
       "      <td>72247.3</td>\n",
       "      <td>67591.5</td>\n",
       "      <td>76485.2</td>\n",
       "      <td>77937.5</td>\n",
       "      <td>74683.8</td>\n",
       "      <td>67994.4</td>\n",
       "    </tr>\n",
       "    <tr>\n",
       "      <th>RESOURCE UNCOMMITTED</th>\n",
       "      <td>31091.0</td>\n",
       "      <td>52089.8</td>\n",
       "      <td>42849.8</td>\n",
       "      <td>42446.9</td>\n",
       "      <td>45850.4</td>\n",
       "      <td>53283.5</td>\n",
       "    </tr>\n",
       "    <tr>\n",
       "      <th>Uncommitted &gt;16 hr</th>\n",
       "      <td>2383.8</td>\n",
       "      <td>14741.5</td>\n",
       "      <td>10861.6</td>\n",
       "      <td>11006.6</td>\n",
       "      <td>13077.6</td>\n",
       "      <td>18652.0</td>\n",
       "    </tr>\n",
       "    <tr>\n",
       "      <th>Uncommitted 12-16 hr</th>\n",
       "      <td>3475.0</td>\n",
       "      <td>7554.5</td>\n",
       "      <td>6432.0</td>\n",
       "      <td>5490.0</td>\n",
       "      <td>4923.0</td>\n",
       "      <td>5748.0</td>\n",
       "    </tr>\n",
       "    <tr>\n",
       "      <th>Uncommitted 8-12 hr</th>\n",
       "      <td>4908.9</td>\n",
       "      <td>6723.5</td>\n",
       "      <td>5818.5</td>\n",
       "      <td>5498.5</td>\n",
       "      <td>6128.5</td>\n",
       "      <td>6452.5</td>\n",
       "    </tr>\n",
       "    <tr>\n",
       "      <th>Uncommitted 4-8 hr</th>\n",
       "      <td>3466.5</td>\n",
       "      <td>4977.5</td>\n",
       "      <td>3730.5</td>\n",
       "      <td>4154.6</td>\n",
       "      <td>4179.5</td>\n",
       "      <td>4380.5</td>\n",
       "    </tr>\n",
       "    <tr>\n",
       "      <th>Uncommitted &lt; 4 hr</th>\n",
       "      <td>16856.8</td>\n",
       "      <td>18092.8</td>\n",
       "      <td>16007.2</td>\n",
       "      <td>16297.2</td>\n",
       "      <td>17541.8</td>\n",
       "      <td>18050.5</td>\n",
       "    </tr>\n",
       "    <tr>\n",
       "      <th>Renewable Forecast</th>\n",
       "      <td>5373.7</td>\n",
       "      <td>14352.5</td>\n",
       "      <td>6350.8</td>\n",
       "      <td>4666.5</td>\n",
       "      <td>7529.2</td>\n",
       "      <td>14353.6</td>\n",
       "    </tr>\n",
       "    <tr>\n",
       "      <th>MISO resources available</th>\n",
       "      <td>108712.0</td>\n",
       "      <td>134033.8</td>\n",
       "      <td>125685.8</td>\n",
       "      <td>125050.9</td>\n",
       "      <td>128063.4</td>\n",
       "      <td>135631.5</td>\n",
       "    </tr>\n",
       "    <tr>\n",
       "      <th>NSI (+ export, - import)</th>\n",
       "      <td>-2362.0</td>\n",
       "      <td>-2851.0</td>\n",
       "      <td>-2851.0</td>\n",
       "      <td>-2851.0</td>\n",
       "      <td>-3166.0</td>\n",
       "      <td>-3166.0</td>\n",
       "    </tr>\n",
       "    <tr>\n",
       "      <th>Total Resources Available</th>\n",
       "      <td>111074.0</td>\n",
       "      <td>136884.8</td>\n",
       "      <td>128536.8</td>\n",
       "      <td>127901.9</td>\n",
       "      <td>131229.4</td>\n",
       "      <td>138797.5</td>\n",
       "    </tr>\n",
       "    <tr>\n",
       "      <th>NaN</th>\n",
       "      <td>NaN</td>\n",
       "      <td>NaN</td>\n",
       "      <td>NaN</td>\n",
       "      <td>NaN</td>\n",
       "      <td>NaN</td>\n",
       "      <td>NaN</td>\n",
       "    </tr>\n",
       "    <tr>\n",
       "      <th>Projected Load</th>\n",
       "      <td>77528.0</td>\n",
       "      <td>81575.0</td>\n",
       "      <td>82841.0</td>\n",
       "      <td>81974.0</td>\n",
       "      <td>82897.0</td>\n",
       "      <td>83236.0</td>\n",
       "    </tr>\n",
       "    <tr>\n",
       "      <th>Operating Reserve Requirement</th>\n",
       "      <td>2410.0</td>\n",
       "      <td>2410.0</td>\n",
       "      <td>2410.0</td>\n",
       "      <td>2410.0</td>\n",
       "      <td>2410.0</td>\n",
       "      <td>2410.0</td>\n",
       "    </tr>\n",
       "    <tr>\n",
       "      <th>Obligation</th>\n",
       "      <td>79938.0</td>\n",
       "      <td>83985.0</td>\n",
       "      <td>85251.0</td>\n",
       "      <td>84384.0</td>\n",
       "      <td>85307.0</td>\n",
       "      <td>85646.0</td>\n",
       "    </tr>\n",
       "    <tr>\n",
       "      <th>NaN</th>\n",
       "      <td>NaN</td>\n",
       "      <td>NaN</td>\n",
       "      <td>NaN</td>\n",
       "      <td>NaN</td>\n",
       "      <td>NaN</td>\n",
       "      <td>NaN</td>\n",
       "    </tr>\n",
       "    <tr>\n",
       "      <th>Resource Operating Margin *</th>\n",
       "      <td>31136.0</td>\n",
       "      <td>52899.8</td>\n",
       "      <td>43285.8</td>\n",
       "      <td>43517.9</td>\n",
       "      <td>45922.4</td>\n",
       "      <td>53151.5</td>\n",
       "    </tr>\n",
       "  </tbody>\n",
       "</table>\n",
       "</div>"
      ],
      "text/plain": [
       "                               1/24/21 HE 20  1/25/21 HE 20**  \\\n",
       "RESOURCE COMMITTED                   72247.3          67591.5   \n",
       "RESOURCE UNCOMMITTED                 31091.0          52089.8   \n",
       "Uncommitted >16 hr                    2383.8          14741.5   \n",
       "Uncommitted 12-16 hr                  3475.0           7554.5   \n",
       "Uncommitted 8-12 hr                   4908.9           6723.5   \n",
       "Uncommitted 4-8 hr                    3466.5           4977.5   \n",
       "Uncommitted < 4 hr                   16856.8          18092.8   \n",
       "Renewable Forecast                    5373.7          14352.5   \n",
       "MISO resources available            108712.0         134033.8   \n",
       "NSI (+ export, - import)             -2362.0          -2851.0   \n",
       "Total Resources Available           111074.0         136884.8   \n",
       "NaN                                      NaN              NaN   \n",
       "Projected Load                       77528.0          81575.0   \n",
       "Operating Reserve Requirement         2410.0           2410.0   \n",
       "Obligation                           79938.0          83985.0   \n",
       "NaN                                      NaN              NaN   \n",
       "Resource Operating Margin *          31136.0          52899.8   \n",
       "\n",
       "                               1/26/21 HE 20**  1/27/21 HE 20**  \\\n",
       "RESOURCE COMMITTED                     76485.2          77937.5   \n",
       "RESOURCE UNCOMMITTED                   42849.8          42446.9   \n",
       "Uncommitted >16 hr                     10861.6          11006.6   \n",
       "Uncommitted 12-16 hr                    6432.0           5490.0   \n",
       "Uncommitted 8-12 hr                     5818.5           5498.5   \n",
       "Uncommitted 4-8 hr                      3730.5           4154.6   \n",
       "Uncommitted < 4 hr                     16007.2          16297.2   \n",
       "Renewable Forecast                      6350.8           4666.5   \n",
       "MISO resources available              125685.8         125050.9   \n",
       "NSI (+ export, - import)               -2851.0          -2851.0   \n",
       "Total Resources Available             128536.8         127901.9   \n",
       "NaN                                        NaN              NaN   \n",
       "Projected Load                         82841.0          81974.0   \n",
       "Operating Reserve Requirement           2410.0           2410.0   \n",
       "Obligation                             85251.0          84384.0   \n",
       "NaN                                        NaN              NaN   \n",
       "Resource Operating Margin *            43285.8          43517.9   \n",
       "\n",
       "                               1/28/21 HE 09**  1/29/21 HE 09**  \n",
       "RESOURCE COMMITTED                     74683.8          67994.4  \n",
       "RESOURCE UNCOMMITTED                   45850.4          53283.5  \n",
       "Uncommitted >16 hr                     13077.6          18652.0  \n",
       "Uncommitted 12-16 hr                    4923.0           5748.0  \n",
       "Uncommitted 8-12 hr                     6128.5           6452.5  \n",
       "Uncommitted 4-8 hr                      4179.5           4380.5  \n",
       "Uncommitted < 4 hr                     17541.8          18050.5  \n",
       "Renewable Forecast                      7529.2          14353.6  \n",
       "MISO resources available              128063.4         135631.5  \n",
       "NSI (+ export, - import)               -3166.0          -3166.0  \n",
       "Total Resources Available             131229.4         138797.5  \n",
       "NaN                                        NaN              NaN  \n",
       "Projected Load                         82897.0          83236.0  \n",
       "Operating Reserve Requirement           2410.0           2410.0  \n",
       "Obligation                             85307.0          85646.0  \n",
       "NaN                                        NaN              NaN  \n",
       "Resource Operating Margin *            45922.4          53151.5  "
      ]
     },
     "execution_count": 3,
     "metadata": {},
     "output_type": "execute_result"
    }
   ],
   "source": [
    "df"
   ]
  },
  {
   "cell_type": "code",
   "execution_count": 4,
   "metadata": {},
   "outputs": [
    {
     "data": {
      "text/plain": [
       "[77528.0, 81575.0, 82841.0, 81974.0, 82897.0, 83236.0]"
      ]
     },
     "execution_count": 4,
     "metadata": {},
     "output_type": "execute_result"
    }
   ],
   "source": [
    "loads = df.loc['Projected Load', :].to_list()\n",
    "loads"
   ]
  },
  {
   "cell_type": "code",
   "execution_count": 5,
   "metadata": {},
   "outputs": [
    {
     "data": {
      "text/plain": [
       "[5373.7, 14352.5, 6350.8, 4666.5, 7529.2, 14353.6]"
      ]
     },
     "execution_count": 5,
     "metadata": {},
     "output_type": "execute_result"
    }
   ],
   "source": [
    "wind = df.loc['Renewable Forecast', :].to_list()\n",
    "wind"
   ]
  },
  {
   "cell_type": "code",
   "execution_count": 6,
   "metadata": {},
   "outputs": [
    {
     "data": {
      "text/plain": [
       "['load_d1', 'load_d2', 'load_d3', 'load_d4', 'load_d5', 'load_d6']"
      ]
     },
     "execution_count": 6,
     "metadata": {},
     "output_type": "execute_result"
    }
   ],
   "source": [
    "load_labels = [f'load_d{d}' for d in range(1, 7)]\n",
    "wind_labels = [f'wind_d{d}' for d in range(1, 7)]\n",
    "load_labels"
   ]
  },
  {
   "cell_type": "code",
   "execution_count": 7,
   "metadata": {},
   "outputs": [
    {
     "data": {
      "text/plain": [
       "[('load_d1', 77528.0),\n",
       " ('load_d2', 81575.0),\n",
       " ('load_d3', 82841.0),\n",
       " ('load_d4', 81974.0),\n",
       " ('load_d5', 82897.0),\n",
       " ('load_d6', 83236.0),\n",
       " ('wind_d1', 5373.7),\n",
       " ('wind_d2', 14352.5),\n",
       " ('wind_d3', 6350.8),\n",
       " ('wind_d4', 4666.5),\n",
       " ('wind_d5', 7529.2),\n",
       " ('wind_d6', 14353.6)]"
      ]
     },
     "execution_count": 7,
     "metadata": {},
     "output_type": "execute_result"
    }
   ],
   "source": [
    "list(zip(load_labels + wind_labels, loads + wind))"
   ]
  },
  {
   "cell_type": "code",
   "execution_count": 8,
   "metadata": {},
   "outputs": [],
   "source": [
    "data_dict = {col: val for col, val in zip(load_labels + wind_labels, loads + wind)}"
   ]
  },
  {
   "cell_type": "code",
   "execution_count": 9,
   "metadata": {},
   "outputs": [],
   "source": [
    "date = pd.to_datetime(excel_files[0].split('\\\\')[-1].split('_')[0])"
   ]
  },
  {
   "cell_type": "code",
   "execution_count": 10,
   "metadata": {},
   "outputs": [
    {
     "data": {
      "text/html": [
       "<div>\n",
       "<style scoped>\n",
       "    .dataframe tbody tr th:only-of-type {\n",
       "        vertical-align: middle;\n",
       "    }\n",
       "\n",
       "    .dataframe tbody tr th {\n",
       "        vertical-align: top;\n",
       "    }\n",
       "\n",
       "    .dataframe thead th {\n",
       "        text-align: right;\n",
       "    }\n",
       "</style>\n",
       "<table border=\"1\" class=\"dataframe\">\n",
       "  <thead>\n",
       "    <tr style=\"text-align: right;\">\n",
       "      <th></th>\n",
       "      <th>load_d1</th>\n",
       "      <th>load_d2</th>\n",
       "      <th>load_d3</th>\n",
       "      <th>load_d4</th>\n",
       "      <th>load_d5</th>\n",
       "      <th>load_d6</th>\n",
       "      <th>wind_d1</th>\n",
       "      <th>wind_d2</th>\n",
       "      <th>wind_d3</th>\n",
       "      <th>wind_d4</th>\n",
       "      <th>wind_d5</th>\n",
       "      <th>wind_d6</th>\n",
       "    </tr>\n",
       "  </thead>\n",
       "  <tbody>\n",
       "    <tr>\n",
       "      <th>2021-01-23</th>\n",
       "      <td>77528.0</td>\n",
       "      <td>81575.0</td>\n",
       "      <td>82841.0</td>\n",
       "      <td>81974.0</td>\n",
       "      <td>82897.0</td>\n",
       "      <td>83236.0</td>\n",
       "      <td>5373.7</td>\n",
       "      <td>14352.5</td>\n",
       "      <td>6350.8</td>\n",
       "      <td>4666.5</td>\n",
       "      <td>7529.2</td>\n",
       "      <td>14353.6</td>\n",
       "    </tr>\n",
       "  </tbody>\n",
       "</table>\n",
       "</div>"
      ],
      "text/plain": [
       "            load_d1  load_d2  load_d3  load_d4  load_d5  load_d6  wind_d1  \\\n",
       "2021-01-23  77528.0  81575.0  82841.0  81974.0  82897.0  83236.0   5373.7   \n",
       "\n",
       "            wind_d2  wind_d3  wind_d4  wind_d5  wind_d6  \n",
       "2021-01-23  14352.5   6350.8   4666.5   7529.2  14353.6  "
      ]
     },
     "execution_count": 10,
     "metadata": {},
     "output_type": "execute_result"
    }
   ],
   "source": [
    "df = pd.DataFrame.from_records(data=data_dict, index=[date])\n",
    "df"
   ]
  },
  {
   "cell_type": "code",
   "execution_count": 11,
   "metadata": {},
   "outputs": [
    {
     "data": {
      "text/html": [
       "<div>\n",
       "<style scoped>\n",
       "    .dataframe tbody tr th:only-of-type {\n",
       "        vertical-align: middle;\n",
       "    }\n",
       "\n",
       "    .dataframe tbody tr th {\n",
       "        vertical-align: top;\n",
       "    }\n",
       "\n",
       "    .dataframe thead th {\n",
       "        text-align: right;\n",
       "    }\n",
       "</style>\n",
       "<table border=\"1\" class=\"dataframe\">\n",
       "  <thead>\n",
       "    <tr style=\"text-align: right;\">\n",
       "      <th></th>\n",
       "      <th>load_d1</th>\n",
       "      <th>load_d2</th>\n",
       "      <th>load_d3</th>\n",
       "      <th>load_d4</th>\n",
       "      <th>load_d5</th>\n",
       "      <th>load_d6</th>\n",
       "      <th>wind_d1</th>\n",
       "      <th>wind_d2</th>\n",
       "      <th>wind_d3</th>\n",
       "      <th>wind_d4</th>\n",
       "      <th>wind_d5</th>\n",
       "      <th>wind_d6</th>\n",
       "    </tr>\n",
       "  </thead>\n",
       "  <tbody>\n",
       "    <tr>\n",
       "      <th>2021-01-23</th>\n",
       "      <td>77528.0</td>\n",
       "      <td>81575.0</td>\n",
       "      <td>82841.0</td>\n",
       "      <td>81974.0</td>\n",
       "      <td>82897.0</td>\n",
       "      <td>83236.0</td>\n",
       "      <td>5373.7</td>\n",
       "      <td>14352.5</td>\n",
       "      <td>6350.8</td>\n",
       "      <td>4666.5</td>\n",
       "      <td>7529.2</td>\n",
       "      <td>14353.6</td>\n",
       "    </tr>\n",
       "    <tr>\n",
       "      <th>2021-01-23</th>\n",
       "      <td>77528.0</td>\n",
       "      <td>81575.0</td>\n",
       "      <td>82841.0</td>\n",
       "      <td>81974.0</td>\n",
       "      <td>82897.0</td>\n",
       "      <td>83236.0</td>\n",
       "      <td>5373.7</td>\n",
       "      <td>14352.5</td>\n",
       "      <td>6350.8</td>\n",
       "      <td>4666.5</td>\n",
       "      <td>7529.2</td>\n",
       "      <td>14353.6</td>\n",
       "    </tr>\n",
       "  </tbody>\n",
       "</table>\n",
       "</div>"
      ],
      "text/plain": [
       "            load_d1  load_d2  load_d3  load_d4  load_d5  load_d6  wind_d1  \\\n",
       "2021-01-23  77528.0  81575.0  82841.0  81974.0  82897.0  83236.0   5373.7   \n",
       "2021-01-23  77528.0  81575.0  82841.0  81974.0  82897.0  83236.0   5373.7   \n",
       "\n",
       "            wind_d2  wind_d3  wind_d4  wind_d5  wind_d6  \n",
       "2021-01-23  14352.5   6350.8   4666.5   7529.2  14353.6  \n",
       "2021-01-23  14352.5   6350.8   4666.5   7529.2  14353.6  "
      ]
     },
     "execution_count": 11,
     "metadata": {},
     "output_type": "execute_result"
    }
   ],
   "source": [
    "df.append(df)"
   ]
  },
  {
   "cell_type": "code",
   "execution_count": 12,
   "metadata": {},
   "outputs": [],
   "source": [
    "import os\n",
    "\n",
    "def extract_miso_forecasts(path):\n",
    "    \"\"\"\n",
    "    Takes a filepath to .xlsx MISO MOM reports and extracts wind and load forecasts.\n",
    "    Saves data to an Excel file - miso_forecasts.xlsx, and returns the DataFrame.\n",
    "    \"\"\"\n",
    "    excel_files = glob(os.path.join(path, '*.xlsx'))\n",
    "    full_forecast_df = None\n",
    "    for file in excel_files:\n",
    "        df = pd.read_excel(file, sheet_name='MISO', skiprows=4, nrows=17, index_col=0, usecols=range(7))\n",
    "        \n",
    "        # get data\n",
    "        loads = df.loc['Projected Load', :].to_list()\n",
    "        wind = df.loc['Renewable Forecast', :].to_list()\n",
    "        \n",
    "        # make column labels\n",
    "        load_labels = [f'load_d{d}' for d in range(1, 7)]\n",
    "        wind_labels = [f'wind_d{d}' for d in range(1, 7)]\n",
    "        \n",
    "        # create and append dataframe\n",
    "        data_dict = {col: val for col, val in zip(load_labels + wind_labels, loads + wind)}\n",
    "        date = pd.to_datetime(file.split('\\\\')[-1].split('_')[0])\n",
    "        forecast_df = pd.DataFrame.from_records(data=data_dict, index=[date])\n",
    "        if full_forecast_df is None:\n",
    "            full_forecast_df = forecast_df.copy()\n",
    "        else:\n",
    "            full_forecast_df = full_forecast_df.append(forecast_df)\n",
    "    \n",
    "    full_forecast_df.sort_index(inplace=True)\n",
    "    full_forecast_df.to_excel('miso_forecasts.xlsx')\n",
    "    return full_forecast_df"
   ]
  },
  {
   "cell_type": "code",
   "execution_count": 13,
   "metadata": {},
   "outputs": [
    {
     "name": "stderr",
     "output_type": "stream",
     "text": [
      "C:\\Users\\words\\anaconda3\\envs\\datasci\\lib\\site-packages\\openpyxl\\styles\\stylesheet.py:221: UserWarning: Workbook contains no default style, apply openpyxl's default\n",
      "  warn(\"Workbook contains no default style, apply openpyxl's default\")\n"
     ]
    }
   ],
   "source": [
    "df = extract_miso_forecasts('data/excel/')"
   ]
  },
  {
   "cell_type": "code",
   "execution_count": 14,
   "metadata": {},
   "outputs": [
    {
     "data": {
      "text/html": [
       "<div>\n",
       "<style scoped>\n",
       "    .dataframe tbody tr th:only-of-type {\n",
       "        vertical-align: middle;\n",
       "    }\n",
       "\n",
       "    .dataframe tbody tr th {\n",
       "        vertical-align: top;\n",
       "    }\n",
       "\n",
       "    .dataframe thead th {\n",
       "        text-align: right;\n",
       "    }\n",
       "</style>\n",
       "<table border=\"1\" class=\"dataframe\">\n",
       "  <thead>\n",
       "    <tr style=\"text-align: right;\">\n",
       "      <th></th>\n",
       "      <th>load_d1</th>\n",
       "      <th>load_d2</th>\n",
       "      <th>load_d3</th>\n",
       "      <th>load_d4</th>\n",
       "      <th>load_d5</th>\n",
       "      <th>load_d6</th>\n",
       "      <th>wind_d1</th>\n",
       "      <th>wind_d2</th>\n",
       "      <th>wind_d3</th>\n",
       "      <th>wind_d4</th>\n",
       "      <th>wind_d5</th>\n",
       "      <th>wind_d6</th>\n",
       "    </tr>\n",
       "  </thead>\n",
       "  <tbody>\n",
       "    <tr>\n",
       "      <th>2021-01-23</th>\n",
       "      <td>77528.0</td>\n",
       "      <td>81575.0</td>\n",
       "      <td>82841.0</td>\n",
       "      <td>81974.0</td>\n",
       "      <td>82897.0</td>\n",
       "      <td>83236.0</td>\n",
       "      <td>5373.7</td>\n",
       "      <td>14352.5</td>\n",
       "      <td>6350.8</td>\n",
       "      <td>4666.5</td>\n",
       "      <td>7529.2</td>\n",
       "      <td>14353.6</td>\n",
       "    </tr>\n",
       "    <tr>\n",
       "      <th>2021-01-24</th>\n",
       "      <td>83310.0</td>\n",
       "      <td>82300.0</td>\n",
       "      <td>82452.0</td>\n",
       "      <td>84568.0</td>\n",
       "      <td>84231.0</td>\n",
       "      <td>72855.0</td>\n",
       "      <td>15996.5</td>\n",
       "      <td>7030.6</td>\n",
       "      <td>5094.1</td>\n",
       "      <td>7496.4</td>\n",
       "      <td>5232.0</td>\n",
       "      <td>16207.2</td>\n",
       "    </tr>\n",
       "    <tr>\n",
       "      <th>2021-01-25</th>\n",
       "      <td>83135.0</td>\n",
       "      <td>84945.0</td>\n",
       "      <td>86705.0</td>\n",
       "      <td>86325.0</td>\n",
       "      <td>73520.0</td>\n",
       "      <td>73509.0</td>\n",
       "      <td>8529.6</td>\n",
       "      <td>4371.5</td>\n",
       "      <td>9566.0</td>\n",
       "      <td>7825.3</td>\n",
       "      <td>15260.2</td>\n",
       "      <td>12907.8</td>\n",
       "    </tr>\n",
       "    <tr>\n",
       "      <th>2021-01-26</th>\n",
       "      <td>84898.0</td>\n",
       "      <td>88174.0</td>\n",
       "      <td>86816.0</td>\n",
       "      <td>74929.0</td>\n",
       "      <td>75048.0</td>\n",
       "      <td>80868.0</td>\n",
       "      <td>4179.6</td>\n",
       "      <td>9625.7</td>\n",
       "      <td>7896.6</td>\n",
       "      <td>14690.1</td>\n",
       "      <td>10564.0</td>\n",
       "      <td>4949.9</td>\n",
       "    </tr>\n",
       "    <tr>\n",
       "      <th>2021-01-27</th>\n",
       "      <td>89361.0</td>\n",
       "      <td>87024.0</td>\n",
       "      <td>75566.0</td>\n",
       "      <td>75378.0</td>\n",
       "      <td>81915.0</td>\n",
       "      <td>83146.0</td>\n",
       "      <td>9498.3</td>\n",
       "      <td>10986.1</td>\n",
       "      <td>13680.6</td>\n",
       "      <td>7576.2</td>\n",
       "      <td>4346.1</td>\n",
       "      <td>7028.9</td>\n",
       "    </tr>\n",
       "  </tbody>\n",
       "</table>\n",
       "</div>"
      ],
      "text/plain": [
       "            load_d1  load_d2  load_d3  load_d4  load_d5  load_d6  wind_d1  \\\n",
       "2021-01-23  77528.0  81575.0  82841.0  81974.0  82897.0  83236.0   5373.7   \n",
       "2021-01-24  83310.0  82300.0  82452.0  84568.0  84231.0  72855.0  15996.5   \n",
       "2021-01-25  83135.0  84945.0  86705.0  86325.0  73520.0  73509.0   8529.6   \n",
       "2021-01-26  84898.0  88174.0  86816.0  74929.0  75048.0  80868.0   4179.6   \n",
       "2021-01-27  89361.0  87024.0  75566.0  75378.0  81915.0  83146.0   9498.3   \n",
       "\n",
       "            wind_d2  wind_d3  wind_d4  wind_d5  wind_d6  \n",
       "2021-01-23  14352.5   6350.8   4666.5   7529.2  14353.6  \n",
       "2021-01-24   7030.6   5094.1   7496.4   5232.0  16207.2  \n",
       "2021-01-25   4371.5   9566.0   7825.3  15260.2  12907.8  \n",
       "2021-01-26   9625.7   7896.6  14690.1  10564.0   4949.9  \n",
       "2021-01-27  10986.1  13680.6   7576.2   4346.1   7028.9  "
      ]
     },
     "execution_count": 14,
     "metadata": {},
     "output_type": "execute_result"
    }
   ],
   "source": [
    "df.head()"
   ]
  },
  {
   "cell_type": "code",
   "execution_count": 15,
   "metadata": {},
   "outputs": [],
   "source": [
    "import seaborn as sns\n",
    "import matplotlib.pyplot as plt"
   ]
  },
  {
   "cell_type": "code",
   "execution_count": 16,
   "metadata": {},
   "outputs": [
    {
     "data": {
      "text/plain": [
       "<AxesSubplot:>"
      ]
     },
     "execution_count": 16,
     "metadata": {},
     "output_type": "execute_result"
    },
    {
     "data": {
      "image/png": "[encoded data removed]",
      "text/plain": [
       "<Figure size 432x288 with 1 Axes>"
      ]
     },
     "metadata": {
      "needs_background": "light"
     },
     "output_type": "display_data"
    }
   ],
   "source": [
    "df[['load_d1', 'load_d2', 'load_d3']].plot()"
   ]
  },
  {
   "cell_type": "code",
   "execution_count": 17,
   "metadata": {},
   "outputs": [
    {
     "data": {
      "text/plain": [
       "<AxesSubplot:>"
      ]
     },
     "execution_count": 17,
     "metadata": {},
     "output_type": "execute_result"
    },
    {
     "data": {
      "image/png": "[encoded data removed]",
      "text/plain": [
       "<Figure size 432x288 with 1 Axes>"
      ]
     },
     "metadata": {
      "needs_background": "light"
     },
     "output_type": "display_data"
    }
   ],
   "source": [
    "df[['wind_d1', 'wind_d2', 'wind_d3']].plot()"
   ]
  },
  {
   "cell_type": "code",
   "execution_count": 18,
   "metadata": {},
   "outputs": [
    {
     "data": {
      "text/plain": [
       "2021-01-23        NaN\n",
       "2021-01-24    14352.5\n",
       "2021-01-25     7030.6\n",
       "2021-01-26     4371.5\n",
       "2021-01-27     9625.7\n",
       "2021-01-28    10986.1\n",
       "2021-01-29    10990.8\n",
       "2021-01-30    12325.0\n",
       "2021-01-31     4826.3\n",
       "2021-02-01     7277.6\n",
       "Name: wind_d2, dtype: float64"
      ]
     },
     "execution_count": 18,
     "metadata": {},
     "output_type": "execute_result"
    }
   ],
   "source": [
    "df['wind_d2'].shift()"
   ]
  },
  {
   "cell_type": "code",
   "execution_count": 19,
   "metadata": {},
   "outputs": [
    {
     "data": {
      "text/html": [
       "<div>\n",
       "<style scoped>\n",
       "    .dataframe tbody tr th:only-of-type {\n",
       "        vertical-align: middle;\n",
       "    }\n",
       "\n",
       "    .dataframe tbody tr th {\n",
       "        vertical-align: top;\n",
       "    }\n",
       "\n",
       "    .dataframe thead th {\n",
       "        text-align: right;\n",
       "    }\n",
       "</style>\n",
       "<table border=\"1\" class=\"dataframe\">\n",
       "  <thead>\n",
       "    <tr style=\"text-align: right;\">\n",
       "      <th></th>\n",
       "      <th>wind_d1</th>\n",
       "      <th>wind_d2</th>\n",
       "      <th>wind_d3</th>\n",
       "    </tr>\n",
       "  </thead>\n",
       "  <tbody>\n",
       "    <tr>\n",
       "      <th>2021-01-24</th>\n",
       "      <td>5373.7</td>\n",
       "      <td>NaN</td>\n",
       "      <td>NaN</td>\n",
       "    </tr>\n",
       "    <tr>\n",
       "      <th>2021-01-25</th>\n",
       "      <td>15996.5</td>\n",
       "      <td>14352.5</td>\n",
       "      <td>NaN</td>\n",
       "    </tr>\n",
       "    <tr>\n",
       "      <th>2021-01-26</th>\n",
       "      <td>8529.6</td>\n",
       "      <td>7030.6</td>\n",
       "      <td>6350.8</td>\n",
       "    </tr>\n",
       "    <tr>\n",
       "      <th>2021-01-27</th>\n",
       "      <td>4179.6</td>\n",
       "      <td>4371.5</td>\n",
       "      <td>5094.1</td>\n",
       "    </tr>\n",
       "    <tr>\n",
       "      <th>2021-01-28</th>\n",
       "      <td>9498.3</td>\n",
       "      <td>9625.7</td>\n",
       "      <td>9566.0</td>\n",
       "    </tr>\n",
       "    <tr>\n",
       "      <th>2021-01-29</th>\n",
       "      <td>11501.3</td>\n",
       "      <td>10986.1</td>\n",
       "      <td>7896.6</td>\n",
       "    </tr>\n",
       "    <tr>\n",
       "      <th>2021-01-30</th>\n",
       "      <td>14455.9</td>\n",
       "      <td>10990.8</td>\n",
       "      <td>13680.6</td>\n",
       "    </tr>\n",
       "    <tr>\n",
       "      <th>2021-01-31</th>\n",
       "      <td>10986.3</td>\n",
       "      <td>12325.0</td>\n",
       "      <td>11801.1</td>\n",
       "    </tr>\n",
       "    <tr>\n",
       "      <th>2021-02-01</th>\n",
       "      <td>4915.3</td>\n",
       "      <td>4826.3</td>\n",
       "      <td>5274.5</td>\n",
       "    </tr>\n",
       "    <tr>\n",
       "      <th>2021-02-02</th>\n",
       "      <td>6676.5</td>\n",
       "      <td>7277.6</td>\n",
       "      <td>6809.1</td>\n",
       "    </tr>\n",
       "  </tbody>\n",
       "</table>\n",
       "</div>"
      ],
      "text/plain": [
       "            wind_d1  wind_d2  wind_d3\n",
       "2021-01-24   5373.7      NaN      NaN\n",
       "2021-01-25  15996.5  14352.5      NaN\n",
       "2021-01-26   8529.6   7030.6   6350.8\n",
       "2021-01-27   4179.6   4371.5   5094.1\n",
       "2021-01-28   9498.3   9625.7   9566.0\n",
       "2021-01-29  11501.3  10986.1   7896.6\n",
       "2021-01-30  14455.9  10990.8  13680.6\n",
       "2021-01-31  10986.3  12325.0  11801.1\n",
       "2021-02-01   4915.3   4826.3   5274.5\n",
       "2021-02-02   6676.5   7277.6   6809.1"
      ]
     },
     "execution_count": 19,
     "metadata": {},
     "output_type": "execute_result"
    }
   ],
   "source": [
    "plot_df = pd.concat([df['wind_d1'], df['wind_d2'].shift(), df['wind_d3'].shift(2)], axis=1)\n",
    "plot_df.index += pd.DateOffset(1)\n",
    "plot_df"
   ]
  },
  {
   "cell_type": "code",
   "execution_count": 20,
   "metadata": {},
   "outputs": [
    {
     "data": {
      "text/plain": [
       "<AxesSubplot:>"
      ]
     },
     "execution_count": 20,
     "metadata": {},
     "output_type": "execute_result"
    },
    {
     "data": {
      "image/png": "[encoded data removed]",
      "text/plain": [
       "<Figure size 396x396 with 1 Axes>"
      ]
     },
     "metadata": {},
     "output_type": "display_data"
    }
   ],
   "source": [
    "f = plt.figure(figsize=(5.5, 5.5))\n",
    "f.patch.set_facecolor('w')  # sets background color behind axis labels\n",
    "plot_df.plot(ax=plt.gca())"
   ]
  },
  {
   "cell_type": "code",
   "execution_count": 21,
   "metadata": {
    "scrolled": true
   },
   "outputs": [
    {
     "data": {
      "text/plain": [
       "<AxesSubplot:>"
      ]
     },
     "execution_count": 21,
     "metadata": {},
     "output_type": "execute_result"
    },
    {
     "data": {
      "image/png": "[encoded data removed]",
      "text/plain": [
       "<Figure size 432x288 with 2 Axes>"
      ]
     },
     "metadata": {
      "needs_background": "light"
     },
     "output_type": "display_data"
    }
   ],
   "source": [
    "sns.heatmap(df.corr())"
   ]
  },
  {
   "cell_type": "code",
   "execution_count": 22,
   "metadata": {},
   "outputs": [
    {
     "name": "stderr",
     "output_type": "stream",
     "text": [
      "C:\\Users\\words\\anaconda3\\envs\\datasci\\lib\\site-packages\\openpyxl\\styles\\stylesheet.py:221: UserWarning: Workbook contains no default style, apply openpyxl's default\n",
      "  warn(\"Workbook contains no default style, apply openpyxl's default\")\n"
     ]
    },
    {
     "data": {
      "text/plain": [
       "['MISO',\n",
       " 'NORTH',\n",
       " 'CENTRAL',\n",
       " 'NORTH+CENTRAL',\n",
       " 'SOUTH',\n",
       " 'WIND UNCERTAINTY',\n",
       " 'LOAD UNCERTAINTY',\n",
       " 'OUTAGE']"
      ]
     },
     "execution_count": 22,
     "metadata": {},
     "output_type": "execute_result"
    }
   ],
   "source": [
    "from openpyxl import load_workbook\n",
    "wb = load_workbook(excel_files[0])\n",
    "wb.sheetnames"
   ]
  },
  {
   "cell_type": "markdown",
   "metadata": {},
   "source": [
    "`conda install python-levenshtein` or `pip install python-levenshtein`"
   ]
  },
  {
   "cell_type": "code",
   "execution_count": 23,
   "metadata": {},
   "outputs": [],
   "source": [
    "from Levenshtein import ratio"
   ]
  },
  {
   "cell_type": "code",
   "execution_count": 24,
   "metadata": {},
   "outputs": [
    {
     "data": {
      "text/plain": [
       "1.0"
      ]
     },
     "execution_count": 24,
     "metadata": {},
     "output_type": "execute_result"
    }
   ],
   "source": [
    "ratio('miso', 'miso')"
   ]
  },
  {
   "cell_type": "code",
   "execution_count": 25,
   "metadata": {},
   "outputs": [
    {
     "data": {
      "text/plain": [
       "'MISO'"
      ]
     },
     "execution_count": 25,
     "metadata": {},
     "output_type": "execute_result"
    }
   ],
   "source": [
    "miso_sheetname = [name for name in wb.sheetnames if (ratio(name.lower(), 'miso') > 0.8)][0]\n",
    "miso_sheetname"
   ]
  },
  {
   "cell_type": "code",
   "execution_count": 26,
   "metadata": {},
   "outputs": [],
   "source": [
    "miso = wb[miso_sheetname]"
   ]
  },
  {
   "cell_type": "code",
   "execution_count": 27,
   "metadata": {},
   "outputs": [
    {
     "name": "stdout",
     "output_type": "stream",
     "text": [
      "Renewable Forecast\n",
      "row, column: 13, 1\n"
     ]
    }
   ],
   "source": [
    "for row in miso.iter_rows():\n",
    "    for cell in row:\n",
    "        if ratio(str(cell.value).lower(), 'renewable forecast') > 0.8:\n",
    "            print(cell.value)\n",
    "            print(f'row, column: {cell.row}, {cell.column}')"
   ]
  }
 ],
 "metadata": {
  "kernelspec": {
   "display_name": "Python 3 (ipykernel)",
   "language": "python",
   "name": "python3"
  },
  "language_info": {
   "codemirror_mode": {
    "name": "ipython",
    "version": 3
   },
   "file_extension": ".py",
   "mimetype": "text/x-python",
   "name": "python",
   "nbconvert_exporter": "python",
   "pygments_lexer": "ipython3",
   "version": "3.9.7"
  }
 },
 "nbformat": 4,
 "nbformat_minor": 4
}
